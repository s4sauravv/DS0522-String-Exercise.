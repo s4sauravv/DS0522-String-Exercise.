{
 "cells": [
  {
   "cell_type": "code",
   "execution_count": 1,
   "id": "6fdcb6dd",
   "metadata": {},
   "outputs": [],
   "source": [
    "#Basic Exercise For String\n"
   ]
  },
  {
   "cell_type": "code",
   "execution_count": 3,
   "id": "1fe29db5",
   "metadata": {},
   "outputs": [
    {
     "name": "stdout",
     "output_type": "stream",
     "text": [
      "Enter Your NameSaurav\n",
      "Good Afternoon, Saurav\n"
     ]
    }
   ],
   "source": [
    "#-Question 1 - Write a python program to display a user entered name followed by \"Good Afternoon\" Using input Fucntion.\n",
    "#Solution\n",
    "\n",
    "name=input(\"Enter Your Name\")\n",
    "print(\"Good Afternoon, \"+name)"
   ]
  },
  {
   "cell_type": "code",
   "execution_count": 6,
   "id": "1fd8f86e",
   "metadata": {},
   "outputs": [
    {
     "name": "stdout",
     "output_type": "stream",
     "text": [
      "Enter Your NameSaurav\n",
      "Enter Date16 July\n",
      " Dear Saurav,              \n",
      "          You are selected,\n",
      "         16 July\n"
     ]
    }
   ],
   "source": [
    "#Question 2 - Write a Program to fill in a letter template given below with name and date .\n",
    "#Letter = ''' Dear <|name|>,\n",
    "#                    You are selected,\n",
    "#             <|Date|>'''\n",
    "\n",
    "\n",
    "#Solution\n",
    "\n",
    "letter=''' Dear <|name|>,              \n",
    "          You are selected,\n",
    "         <|Date|>'''\n",
    "name=input(\"Enter Your Name\")\n",
    "date=input(\"Enter Date\")\n",
    "letter=letter.replace(\"<|name|>\",name)\n",
    "letter=letter.replace(\"<|Date|>\",date)\n",
    "print(letter)\n"
   ]
  },
  {
   "cell_type": "code",
   "execution_count": 8,
   "id": "91fb9b26",
   "metadata": {},
   "outputs": [
    {
     "data": {
      "text/plain": [
       "13"
      ]
     },
     "execution_count": 8,
     "metadata": {},
     "output_type": "execute_result"
    }
   ],
   "source": [
    "#Question 3- Write a Program to detect double sapne in a string.\n",
    "\n",
    "#Solution.\n",
    " \n",
    "    \n",
    "str=\"find a double  from a string\"\n",
    "str.find(\"  \")\n",
    "\n"
   ]
  },
  {
   "cell_type": "code",
   "execution_count": 10,
   "id": "27354bdf",
   "metadata": {},
   "outputs": [
    {
     "data": {
      "text/plain": [
       "'find a double from a string'"
      ]
     },
     "execution_count": 10,
     "metadata": {},
     "output_type": "execute_result"
    }
   ],
   "source": [
    "#Question 4- Replace the doublespaces form question 3 with spaces.\n",
    "\n",
    "\n",
    "#Solution\n",
    "\n",
    "str=\"find a double  from a string\"\n",
    "str.replace(\"  \",\" \")\n"
   ]
  },
  {
   "cell_type": "code",
   "execution_count": 11,
   "id": "d94d9fe6",
   "metadata": {},
   "outputs": [
    {
     "name": "stdout",
     "output_type": "stream",
     "text": [
      "Dear Saurav,\n",
      "\t This python course is nice,\n",
      " Thanks\n"
     ]
    }
   ],
   "source": [
    "#Question 5 - Write a program to format the following letter using escape sequence characters.\n",
    "# letter= \"Dear Saurav, This python course is nice, Thanks\"\n",
    "\n",
    "\n",
    "#Solution\n",
    "\n",
    "#\\n use for jump to next line\n",
    "#\\t use for Tab\n",
    "\n",
    "letter= \"Dear Saurav,\\n\\t This python course is nice,\\n Thanks\"\n",
    "\n",
    "print(letter)"
   ]
  },
  {
   "cell_type": "code",
   "execution_count": null,
   "id": "7b16705a",
   "metadata": {},
   "outputs": [],
   "source": [
    "# Basics string Question\n",
    "#Data Scientist To be..\n",
    "#Student of datatrained- SAURAV\n",
    "#Date-17-june-2022"
   ]
  }
 ],
 "metadata": {
  "kernelspec": {
   "display_name": "Python 3 (ipykernel)",
   "language": "python",
   "name": "python3"
  },
  "language_info": {
   "codemirror_mode": {
    "name": "ipython",
    "version": 3
   },
   "file_extension": ".py",
   "mimetype": "text/x-python",
   "name": "python",
   "nbconvert_exporter": "python",
   "pygments_lexer": "ipython3",
   "version": "3.9.12"
  }
 },
 "nbformat": 4,
 "nbformat_minor": 5
}
